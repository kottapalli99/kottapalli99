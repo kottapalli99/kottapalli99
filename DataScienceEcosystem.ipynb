{
  "metadata": {
    "language_info": {
      "name": ""
    },
    "kernelspec": {
      "name": "python",
      "display_name": "Python (Pyodide)",
      "language": "python"
    }
  },
  "nbformat_minor": 4,
  "nbformat": 4,
  "cells": [
    {
      "cell_type": "markdown",
      "source": "# Data Science Tools and Ecosystem",
      "metadata": {
        "tags": []
      }
    },
    {
      "cell_type": "markdown",
      "source": "In this notebook, Data Science Tools and Ecosystem are summarized",
      "metadata": {}
    },
    {
      "cell_type": "markdown",
      "source": "Some of the popular languages in Data Science are: R, SQL, Java, Python, and Javascript",
      "metadata": {}
    },
    {
      "cell_type": "markdown",
      "source": "Some of the common libraries used by Data scientists include: NumPy, SciPy, TensorFlow, Pandas, and PyTorch",
      "metadata": {}
    },
    {
      "cell_type": "markdown",
      "source": "|Data Science Tools|\n|------------------|\n| Git|\n|Apache NetBeans|\n|Atom|\n|Apache Subversion|",
      "metadata": {}
    },
    {
      "cell_type": "code",
      "source": "### Below are few examples of evaluating arithmetic epressions in Python",
      "metadata": {},
      "execution_count": null,
      "outputs": []
    },
    {
      "cell_type": "code",
      "source": "# This is a basic eample to illustrate how to multiply integers and then add them\n(3*4)+5",
      "metadata": {
        "trusted": true
      },
      "execution_count": null,
      "outputs": []
    },
    {
      "cell_type": "code",
      "source": "# This will convert minutes into hours\n200/60",
      "metadata": {
        "trusted": true
      },
      "execution_count": null,
      "outputs": []
    },
    {
      "cell_type": "markdown",
      "source": "### Some of the key takeaways from this course\nLearned components of a Data Scientist's toolkit and list various tool categories.\nList examples of open-source tools used in data science.\nHow to use a machine learning model to solve a problem and navigate the Model Asset eXchange.\nHow a Jupyter Notebook allows a Data Scientist to record their data experiments and results that others can reuse\nHow to edit and upload files in GitHub\n\n",
      "metadata": {}
    },
    {
      "cell_type": "markdown",
      "source": "## Balasubrahmanyam Kottapalli",
      "metadata": {}
    },
    {
      "cell_type": "code",
      "source": "",
      "metadata": {},
      "execution_count": null,
      "outputs": []
    }
  ]
}